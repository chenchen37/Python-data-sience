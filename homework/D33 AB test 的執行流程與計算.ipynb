{
 "cells": [
  {
   "cell_type": "markdown",
   "metadata": {},
   "source": [
    "## 作業:\n",
    "某工廠想知道兩條不同的生產線的產品不良率是否有所不同，由兩條生產線中各抽取 300 個樣本，第一組有  75 個不良品，第二組有 30 個不良品，我們可以宣稱生產線所生產出的產品不良率不相同? (以 0.05 為顯著水準)?    \n",
    "(提示:透過課程投影片的步驟，需思考 𝐻_0、 𝐻_1 的寫法和範例不同唷。)   \n",
    "\n"
   ]
  },
  {
   "cell_type": "code",
   "execution_count": 2,
   "metadata": {
    "colab": {
     "base_uri": "https://localhost:8080/",
     "height": 34
    },
    "colab_type": "code",
    "executionInfo": {
     "elapsed": 1558,
     "status": "ok",
     "timestamp": 1578021044012,
     "user": {
      "displayName": "Mora chen",
      "photoUrl": "https://lh3.googleusercontent.com/a-/AAuE7mB40f7sDArbZ5_DYq02nNcnLD0Ryaf7AhsASSQeLQ=s64",
      "userId": "03171203089166907199"
     },
     "user_tz": -480
    },
    "id": "yz28_IgkYdBW",
    "outputId": "a12f486c-18b3-4fb5-d06c-f162aebd9444"
   },
   "outputs": [],
   "source": [
    "# library\n",
    "import statsmodels.stats.proportion"
   ]
  },
  {
   "cell_type": "code",
   "execution_count": 8,
   "metadata": {},
   "outputs": [
    {
     "name": "stdout",
     "output_type": "stream",
     "text": [
      "(4.834937784152282, 1.3318728439003627e-06)\n",
      "拒絕H0，兩生產線的不良率不相同\n"
     ]
    }
   ],
   "source": [
    "# 目的為比較兩生產線的不良率\n",
    "# 設立假設\n",
    "# 令Pa為第一條生產線的不良率\n",
    "# 令Pb為第二條生產線的不良率\n",
    "#  H0:Pa=Pb\n",
    "#  H1:Pa!=Pb\n",
    "# 用雙尾檢定\n",
    "\n",
    "A = [75,30]  # 各組不良品的數量\n",
    "B = [300,300]  # 各組檢測總數\n",
    "a = statsmodels.stats.proportion.proportions_ztest(A, B, alternative='two-sided')\n",
    "print(a)\n",
    "\n",
    "if a[1]<0.05:\n",
    "    print('拒絕H0，兩生產線的不良率不相同')\n",
    "else:\n",
    "    print('無法拒絕H0，兩生產線的不良率相同')"
   ]
  }
 ],
 "metadata": {
  "colab": {
   "name": "Day33.YOLO 細節理解 - 網路輸出的後處理_HW.ipynb",
   "provenance": []
  },
  "kernelspec": {
   "display_name": "Python 3",
   "language": "python",
   "name": "python3"
  },
  "language_info": {
   "codemirror_mode": {
    "name": "ipython",
    "version": 3
   },
   "file_extension": ".py",
   "mimetype": "text/x-python",
   "name": "python",
   "nbconvert_exporter": "python",
   "pygments_lexer": "ipython3",
   "version": "3.8.5"
  }
 },
 "nbformat": 4,
 "nbformat_minor": 1
}
