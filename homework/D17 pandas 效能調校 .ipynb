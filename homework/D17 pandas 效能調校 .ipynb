{
 "cells": [
  {
   "cell_type": "code",
   "execution_count": 1,
   "metadata": {},
   "outputs": [],
   "source": [
    "# 1.在速度較慢的時候，可以先從哪邊開始檢查？\n",
    "\n",
    "# 讀取資料時，選最快速的檔案格式\n",
    "# 多使用 Python內建函數\n",
    "# 採用向量化的資料處理方式(如 isin()...)"
   ]
  },
  {
   "cell_type": "code",
   "execution_count": 2,
   "metadata": {},
   "outputs": [],
   "source": [
    "# 2.資料過大時應採取什麼方式讓記憶體占用量下降？\n",
    "\n",
    "# 將欄位的型態降級，不需要存太多元素在一個數字中\n",
    "# 如 (int64 -> unit64)、(float64 -> float32)"
   ]
  }
 ],
 "metadata": {
  "kernelspec": {
   "display_name": "Python 3",
   "language": "python",
   "name": "python3"
  },
  "language_info": {
   "codemirror_mode": {
    "name": "ipython",
    "version": 3
   },
   "file_extension": ".py",
   "mimetype": "text/x-python",
   "name": "python",
   "nbconvert_exporter": "python",
   "pygments_lexer": "ipython3",
   "version": "3.8.5"
  }
 },
 "nbformat": 4,
 "nbformat_minor": 4
}
