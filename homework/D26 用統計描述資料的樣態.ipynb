{
 "cells": [
  {
   "cell_type": "code",
   "execution_count": 1,
   "metadata": {
    "colab": {
     "base_uri": "https://localhost:8080/",
     "height": 34
    },
    "colab_type": "code",
    "executionInfo": {
     "elapsed": 1558,
     "status": "ok",
     "timestamp": 1578021044012,
     "user": {
      "displayName": "Mora chen",
      "photoUrl": "https://lh3.googleusercontent.com/a-/AAuE7mB40f7sDArbZ5_DYq02nNcnLD0Ryaf7AhsASSQeLQ=s64",
      "userId": "03171203089166907199"
     },
     "user_tz": -480
    },
    "id": "yz28_IgkYdBW",
    "outputId": "a12f486c-18b3-4fb5-d06c-f162aebd9444"
   },
   "outputs": [],
   "source": [
    "# library\n",
    "import matplotlib.pyplot as plt\n",
    "import numpy as np\n",
    "import pandas as pd\n",
    "from scipy import stats\n",
    "import math\n",
    "import statistics\n"
   ]
  },
  {
   "cell_type": "code",
   "execution_count": 2,
   "metadata": {},
   "outputs": [],
   "source": [
    "boys=[164, 176, 169, 169, 165, 175, 159, 151, 144, 160, 183, 165, 156, 170, 164, 173, 165, 163, 177, 171]\n",
    "girls=[169, 183, 170, 168, 182, 170, 173, 185, 151, 156, 162, 169, 162, 181, 159, 154, 167, 175, 170, 160]"
   ]
  },
  {
   "cell_type": "code",
   "execution_count": 22,
   "metadata": {},
   "outputs": [
    {
     "name": "stdout",
     "output_type": "stream",
     "text": [
      "                             Boys       Girls\n",
      "Statistical Functions                        \n",
      "Mean                   165.950000  168.300000\n",
      "Median                 165.000000  169.000000\n",
      "Mode                   165.000000  170.000000\n",
      "Range                   39.000000   34.000000\n",
      "Variance                84.892105   95.378947\n",
      "Standard Deviation       9.213691    9.766215\n",
      "Skewness                -0.471321    0.059853\n",
      "Kurtosis                 0.193959   -0.820361\n"
     ]
    },
    {
     "data": {
      "image/png": "[encoded data removed]",
      "text/plain": [
       "<Figure size 432x288 with 1 Axes>"
      ]
     },
     "metadata": {
      "needs_background": "light"
     },
     "output_type": "display_data"
    },
    {
     "data": {
      "image/png": "[encoded data removed]",
      "text/plain": [
       "<Figure size 432x288 with 1 Axes>"
      ]
     },
     "metadata": {
      "needs_background": "light"
     },
     "output_type": "display_data"
    }
   ],
   "source": [
    "#Q1:試著用今天所教的內容，如何描述這兩組資料的樣態?\n",
    "def rangeV(x):\n",
    "    return(max(x)-min(x))\n",
    "\n",
    "df = pd.DataFrame([['Mean',np.mean(boys),np.mean(girls)],\n",
    "                  ['Median',np.median(boys),np.median(girls)],\n",
    "                  ['Mode',statistics.mode(boys),statistics.mode(girls)],\n",
    "                  ['Range',rangeV(boys),rangeV(girls)],\n",
    "                  ['Variance',np.var(boys,ddof=1),np.var(girls,ddof=1)],\n",
    "                  ['Standard Deviation',np.std(boys,ddof=1),np.std(girls,ddof=1)],\n",
    "                  ['Skewness',stats.skew(boys),stats.skew(girls)],\n",
    "                  ['Kurtosis',stats.kurtosis(boys),stats.kurtosis(girls)]],\n",
    "                 columns=['Statistical Functions','Boys','Girls'])\n",
    "df = df.set_index('Statistical Functions')\n",
    "print(df)\n",
    "\n",
    "plt.hist(boys,alpha=.4,bins=40)\n",
    "plt.title('Boys,skewness={0},kurtosis={1}'.format(round(stats.skew(boys),2),round(stats.kurtosis(boys),2)))\n",
    "plt.axvline(x=np.mean(boys))\n",
    "plt.show()\n",
    "\n",
    "plt.hist(girls,alpha=.4,bins=40)\n",
    "plt.title('Girls,skewness={0},kurtosis={1}'.format(round(stats.skew(girls),2),round(stats.kurtosis(girls),2)))\n",
    "plt.axvline(x=np.mean(girls))\n",
    "plt.show()"
   ]
  },
  {
   "cell_type": "code",
   "execution_count": 24,
   "metadata": {},
   "outputs": [
    {
     "name": "stdout",
     "output_type": "stream",
     "text": [
      "女生平均身高較高\n"
     ]
    }
   ],
   "source": [
    "#Q2: 請問男生和女生在平均身高上誰比較高? \n",
    "\n",
    "if np.mean(boys)>np.mean(girls):\n",
    "    print('男生平均身高較高')\n",
    "else:\n",
    "    print('女生平均身高較高')"
   ]
  },
  {
   "cell_type": "code",
   "execution_count": 25,
   "metadata": {},
   "outputs": [],
   "source": [
    "#Q3:請問第二題的答案和日常生活中觀察的一致嗎? 如果不一致，你覺得原因可能為何? \n",
    "\n",
    "#樣本數僅有20個，且不知道採樣方法是否恰當，無法代表群體的狀況。"
   ]
  }
 ],
 "metadata": {
  "colab": {
   "name": "Day33.YOLO 細節理解 - 網路輸出的後處理_HW.ipynb",
   "provenance": []
  },
  "kernelspec": {
   "display_name": "Python 3",
   "language": "python",
   "name": "python3"
  },
  "language_info": {
   "codemirror_mode": {
    "name": "ipython",
    "version": 3
   },
   "file_extension": ".py",
   "mimetype": "text/x-python",
   "name": "python",
   "nbconvert_exporter": "python",
   "pygments_lexer": "ipython3",
   "version": "3.8.5"
  }
 },
 "nbformat": 4,
 "nbformat_minor": 1
}
